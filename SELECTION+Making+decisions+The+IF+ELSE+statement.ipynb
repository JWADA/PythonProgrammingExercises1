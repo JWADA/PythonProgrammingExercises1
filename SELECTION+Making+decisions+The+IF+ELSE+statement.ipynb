{
 "cells": [
  {
   "cell_type": "markdown",
   "metadata": {},
   "source": [
    "## SELECTION: Making decisions: The IF/ELSE statement \n",
    "![Helpful image!](https://cdn.pbrd.co/images/GL5RjWE.png) \n",
    "![Helpful image 2](https://cdn.pbrd.co/images/GLx8V0H.png) \n"
   ]
  },
  {
   "cell_type": "code",
   "execution_count": 3,
   "metadata": {},
   "outputs": [
    {
     "name": "stdout",
     "output_type": "stream",
     "text": [
      "Hi there, what is your name ?\n",
      "J\n",
      "Hello there J\n",
      "I just wanted to ask you how old you are J\n"
     ]
    }
   ],
   "source": [
    "print (\"Hi there, what is your name ?\")\n",
    "Myname = input ()\n",
    "print (\"Hello there \" + Myname) \n",
    "print (\"I just wanted to ask you how old you are \" + Myname)\n",
    "age = input \n",
    "if age == 17:\n",
    "    print (\"We a happy to approve your appication for a provisional license\")\n",
    "# else:\n",
    "   # if age > 10:\n",
    "      #  print (\"I'm sorry, but you are not eligible \") \n",
    "elif age == 16:\n",
    "    print (\"Im sorry, but you are too young !\")\n",
    "    "
   ]
  },
  {
   "cell_type": "code",
   "execution_count": 6,
   "metadata": {},
   "outputs": [
    {
     "name": "stdout",
     "output_type": "stream",
     "text": [
      "On average, how many pounds do you think your backpack weighs? Give your answer ending in g4\n"
     ]
    },
    {
     "ename": "TypeError",
     "evalue": "unorderable types: float() > str()",
     "output_type": "error",
     "traceback": [
      "\u001b[0;31m---------------------------------------------------------------------------\u001b[0m",
      "\u001b[0;31mTypeError\u001b[0m                                 Traceback (most recent call last)",
      "\u001b[0;32m<ipython-input-6-a96d9d231e32>\u001b[0m in \u001b[0;36m<module>\u001b[0;34m()\u001b[0m\n\u001b[1;32m      1\u001b[0m \u001b[0mweight\u001b[0m \u001b[0;34m=\u001b[0m \u001b[0mfloat\u001b[0m\u001b[0;34m(\u001b[0m\u001b[0minput\u001b[0m\u001b[0;34m(\u001b[0m\u001b[0;34m\"On average, how many pounds do you think your backpack weighs? Give your answer ending in g\"\u001b[0m\u001b[0;34m)\u001b[0m\u001b[0;34m)\u001b[0m\u001b[0;34m\u001b[0m\u001b[0m\n\u001b[0;32m----> 2\u001b[0;31m \u001b[0;32mif\u001b[0m \u001b[0mweight\u001b[0m \u001b[0;34m>\u001b[0m \u001b[0;34m\"4\"\u001b[0m\u001b[0;34m:\u001b[0m\u001b[0;34m\u001b[0m\u001b[0m\n\u001b[0m\u001b[1;32m      3\u001b[0m \u001b[0;31m# the \"if\" statement essentially is self explanatory english and creates a varying condition of where if the bag weight is more than the\u001b[0m\u001b[0;34m\u001b[0m\u001b[0;34m\u001b[0m\u001b[0m\n\u001b[1;32m      4\u001b[0m \u001b[0;31m# validating amount then an indent becomes present leading onto a print output.\u001b[0m\u001b[0;34m\u001b[0m\u001b[0;34m\u001b[0m\u001b[0m\n\u001b[1;32m      5\u001b[0m     \u001b[0mprint\u001b[0m \u001b[0;34m(\u001b[0m\u001b[0;34m\"Woah, there\"\u001b[0m\u001b[0;34m)\u001b[0m\u001b[0;34m\u001b[0m\u001b[0m\n",
      "\u001b[0;31mTypeError\u001b[0m: unorderable types: float() > str()"
     ]
    }
   ],
   "source": [
    "weight = float(input(\"On average, how many pounds do you think your backpack weighs? Give your answer ending in g\")) \n",
    "if weight > \"4\":\n",
    "# the \"if\" statement essentially is self explanatory english and creates a varying condition of where if the bag weight is more than the\n",
    "# validating amount then an indent becomes present leading onto a print output.\n",
    "    print (\"Woah, there\")\n",
    "# \"else\" acts as kind of a contingency output of where the weight does not equate \n",
    "else:\n",
    "    print (\"Maybe you should pack some belongings in your bag\")\n",
    "    \n",
    "    "
   ]
  },
  {
   "cell_type": "code",
   "execution_count": null,
   "metadata": {
    "collapsed": true
   },
   "outputs": [],
   "source": []
  }
 ],
 "metadata": {
  "kernelspec": {
   "display_name": "Python 3",
   "language": "python",
   "name": "python3"
  },
  "language_info": {
   "codemirror_mode": {
    "name": "ipython",
    "version": 3
   },
   "file_extension": ".py",
   "mimetype": "text/x-python",
   "name": "python",
   "nbconvert_exporter": "python",
   "pygments_lexer": "ipython3",
   "version": "3.5.2"
  }
 },
 "nbformat": 4,
 "nbformat_minor": 2
}

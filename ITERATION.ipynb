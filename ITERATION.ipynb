{
 "cells": [
  {
   "cell_type": "markdown",
   "metadata": {},
   "source": [
    "##  Counter loops in depth "
   ]
  },
  {
   "cell_type": "code",
   "execution_count": 6,
   "metadata": {},
   "outputs": [
    {
     "name": "stdout",
     "output_type": "stream",
     "text": [
      "100,99,98,97,96,95,94,93,92,91,90,89,88,87,86,85,84,83,82,81,80,79,78,77,76,75,74,73,72,71,70,69,68,67,66,65,64,63,62,61,60,59,58,57,56,55,54,53,52,51,50,49,48,47,46,45,44,43,42,41,40,39,38,37,36,35,34,33,32,31,30,29,28,27,26,25,24,23,22,21,20,19,18,17,16,15,14,13,12,11,10,9,8,7,6,5,4,3,2,"
     ]
    }
   ],
   "source": [
    "for counter in range (100,1,-1):\n",
    "    print (counter, end=\",\")"
   ]
  },
  {
   "cell_type": "code",
   "execution_count": 13,
   "metadata": {},
   "outputs": [
    {
     "ename": "SyntaxError",
     "evalue": "invalid syntax (<ipython-input-13-09a2b73b161a>, line 7)",
     "output_type": "error",
     "traceback": [
      "\u001b[0;36m  File \u001b[0;32m\"<ipython-input-13-09a2b73b161a>\"\u001b[0;36m, line \u001b[0;32m7\u001b[0m\n\u001b[0;31m    for counter in range (2,15,2)\u001b[0m\n\u001b[0m                                 ^\u001b[0m\n\u001b[0;31mSyntaxError\u001b[0m\u001b[0;31m:\u001b[0m invalid syntax\n"
     ]
    }
   ],
   "source": [
    "def forExamples (): \n",
    "    print (\"Test 1\")\n",
    "    for counter in range (1,15):\n",
    "        print (Token)\n",
    "print ()\n",
    "print (\"Test 2\")\n",
    "for counter in range (2,15,2)\n",
    "print () \n",
    " "
   ]
  },
  {
   "cell_type": "code",
   "execution_count": null,
   "metadata": {},
   "outputs": [
    {
     "name": "stdout",
     "output_type": "stream",
     "text": [
      "Press / Enter 'Q' to terminate operation\n"
     ]
    }
   ],
   "source": [
    "while True:\n",
    "    print (\"Press / Enter 'Q' to terminate operation\")\n",
    "    val = input (\"Enter a number\")\n",
    "    if val == 'Q':\n",
    "        break\n",
    "    else:\n",
    "        num = int (val)\n",
    "        nrow = int (input(\"How many rows ?:\"))\n",
    "for i in range (0, i+1):\n",
    "        for j in range(0, 1+1) :\n",
    "            print (num,end=\" \")\n",
    "        print ()\n",
    "        "
   ]
  },
  {
   "cell_type": "code",
   "execution_count": null,
   "metadata": {
    "collapsed": true
   },
   "outputs": [],
   "source": [
    "import random\n",
    "won = False # at the start the game has not been won\n",
    "lives = 3 # You start with 3 lives\n",
    "\n",
    "while not won and live > 0  :\n",
    "    "
   ]
  }
 ],
 "metadata": {
  "kernelspec": {
   "display_name": "Python 3",
   "language": "python",
   "name": "python3"
  },
  "language_info": {
   "codemirror_mode": {
    "name": "ipython",
    "version": 3
   },
   "file_extension": ".py",
   "mimetype": "text/x-python",
   "name": "python",
   "nbconvert_exporter": "python",
   "pygments_lexer": "ipython3",
   "version": "3.5.2"
  }
 },
 "nbformat": 4,
 "nbformat_minor": 2
}
